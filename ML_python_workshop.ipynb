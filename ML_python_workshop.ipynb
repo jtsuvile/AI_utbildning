{
  "nbformat": 4,
  "nbformat_minor": 0,
  "metadata": {
    "colab": {
      "provenance": [],
      "include_colab_link": true
    },
    "kernelspec": {
      "name": "python3",
      "display_name": "Python 3"
    },
    "language_info": {
      "name": "python"
    }
  },
  "cells": [
    {
      "cell_type": "markdown",
      "metadata": {
        "id": "view-in-github",
        "colab_type": "text"
      },
      "source": [
        "<a href=\"https://colab.research.google.com/github/jtsuvile/AI_utbildning/blob/main/ML_python_workshop.ipynb\" target=\"_parent\"><img src=\"https://colab.research.google.com/assets/colab-badge.svg\" alt=\"Open In Colab\"/></a>"
      ]
    },
    {
      "cell_type": "markdown",
      "source": [
        "---\n",
        "# **Maskininlärning med Python**\n",
        "###**Mål: Bygg en klassificeringmodell för att predicera bröstcancer**\n",
        "\n",
        "### **Kod & data:**\n",
        "- URL till original-notebooken: **https://tinyurl.com/46c7ww78**\n",
        "  - Ladda upp och kör i ert eget google colab-konto\n",
        "- Vi kommer ladda in ett öppet dataset med data från bröstcancerpatienter. Mer information om datasettet finns [här](https://archive.ics.uci.edu/dataset/17/breast+cancer+wisconsin+diagnostic).\n",
        "  - Datasetet är redan städat, transformerat och bearbetat, så vi kan använda det som det är\n",
        "  - <font color=\"red\">**OBS! Ladda aldrig upp sekretessbelagd data (t.ex. patientdata) på google colab!**</font>\n",
        "\n",
        "### **Bra att veta:**\n",
        "- Kör en specifik kod-cell genom att trycka på play-knappen i övre vänstra hörnet av cellen eller genom shift+enter\n",
        "  - Kom ihåg att ordningen som du kör cellerna i spelar roll, om det finns kod i cell A som behövs i cell B så behöver du köra A före B\n",
        "  - Om kod i cell B skriver över variabler i cell A, så kommer det påverka vad som händer om du kör A igen\n",
        "\n"
      ],
      "metadata": {
        "id": "D4uI662iZyN9"
      }
    },
    {
      "cell_type": "markdown",
      "source": [
        "## Steg 1: prep\n",
        "Vi preppar notebooken med paket och data vi kommer behöva under övningen"
      ],
      "metadata": {
        "id": "MpOb7DzRSUoh"
      }
    },
    {
      "cell_type": "code",
      "source": [
        "#Först importerar vi de paket vi behöver:\n",
        "\n",
        "import pandas as pd # pandas är bra för att hantera tabulärdata\n",
        "import matplotlib.pyplot as plt # matplotlib är för att göra snygga plottar\n",
        "from sklearn import datasets # sklearn har mycket ML-relaterat, här importerar vi funktionen som ger oss datasets\n",
        "from sklearn.model_selection import train_test_split # och här lite funktioner vi kommer behöva\n",
        "\n",
        "pd.options.display.max_columns = None  # Ställer in så pandas dataframes inte kollapsar (döljer) kolumner när vi skriver ut en tabell\n",
        "plt.rcParams['figure.figsize'] = [20, 10]\n"
      ],
      "metadata": {
        "id": "lytqwkxVShnO"
      },
      "execution_count": null,
      "outputs": []
    },
    {
      "cell_type": "code",
      "source": [
        "# vi laddar in datasettet\n",
        "\n",
        "X, y = datasets.load_breast_cancer(return_X_y=True, as_frame=True)    # Laddar X- och y-data\n",
        "# X innehåller alla variabler som vi vill använda som input vid prediktion\n",
        "# Y innehåller den variabel som är vår modells \"target\", d.v.s det modellen predicerar\n",
        "y = y.apply(lambda x: datasets.load_breast_cancer().target_names[x])  # Lägger till etiketter till y-data\n"
      ],
      "metadata": {
        "id": "IByVFFmJQV7O"
      },
      "execution_count": null,
      "outputs": []
    },
    {
      "cell_type": "markdown",
      "source": [
        "---\n",
        "## Steg 2: Bekanta er med datasetet\n",
        "\n",
        "Vi har laddat in data som en DataFrame, dvs en excel-liknande tabell. Paketet Pandas (alias pd) som vi laddade innan har en hel del bra funktioner som hjälper med att förstå och hantera en DataFrame.\n"
      ],
      "metadata": {
        "id": "tnebPpaUSQwL"
      }
    },
    {
      "cell_type": "code",
      "source": [
        "# Första frågan är alltid: hur ser datan ut?\n",
        "X.head() # kommandot head() ger 5 första rader av en DataFrame"
      ],
      "metadata": {
        "id": "XPA1scB_UwPb"
      },
      "execution_count": null,
      "outputs": []
    },
    {
      "cell_type": "code",
      "source": [
        "# vi kan även fråga vad har vi för kolumner?\n",
        "X.columns"
      ],
      "metadata": {
        "id": "GHXThwY0TtwZ"
      },
      "execution_count": null,
      "outputs": []
    },
    {
      "cell_type": "code",
      "source": [
        "# vi kollar även på y\n",
        "y.head()"
      ],
      "metadata": {
        "id": "mppEFzS6V9HA"
      },
      "execution_count": null,
      "outputs": []
    },
    {
      "cell_type": "markdown",
      "source": [
        "### Reflektion\n",
        "\n",
        "Vad märker du med kolumnnamn? Är det någon/några termer som upprepas ofta? Vad tror vi det handlar om?\n",
        "\n",
        "Mer information om datasettet hittar du t.ex. [här](https://www.kaggle.com/datasets/uciml/breast-cancer-wisconsin-data).\n"
      ],
      "metadata": {
        "id": "KrN52PhAUsXF"
      }
    },
    {
      "cell_type": "markdown",
      "source": [
        "### Vi fortsätter utreda data\n",
        "\n",
        "Vi fortsätter försöka förstå vår dataset genom att utnyttja Pandas functions."
      ],
      "metadata": {
        "id": "5-_evBXgW4va"
      }
    },
    {
      "cell_type": "code",
      "source": [
        "# Vilka kategorier har vi i y? Hur många av varje?\n",
        "y.value_counts()"
      ],
      "metadata": {
        "id": "bBdwBd4VW3Wi"
      },
      "execution_count": null,
      "outputs": []
    },
    {
      "cell_type": "code",
      "source": [
        "# hur kan vi sammanfatta variabler i X? ja, det finns en enkel funktion för det!\n",
        "X.describe()"
      ],
      "metadata": {
        "id": "jIPc60K8XbCC"
      },
      "execution_count": null,
      "outputs": []
    },
    {
      "cell_type": "code",
      "source": [
        "# men usch det är jobbigt att kolla på siffror på det sättet. Hade det varit enklare att förstå en bild?\n",
        "X.plot.box(subplots=True)\n",
        "plt.show() # in order for the plot to show on the notebook, you need to always call plt.show after creating a plot"
      ],
      "metadata": {
        "id": "TlqwNUmhabyT"
      },
      "execution_count": null,
      "outputs": []
    },
    {
      "cell_type": "code",
      "source": [
        "# det var lite bra men inte helt och hållet. Vi fortsätter utveckla plottet för att det ska vara lite mer informativt!\n",
        "# normalt hade du fortsätt genom att ändra den befintliga koden och bara kört om cellen, men för att vara pedagogiska kommer vi göra det steg för steg\n",
        "\n",
        "# vi lägger in en arguemnt som heter \"layout\", den hjälper oss få plottarna lite tydligare\n",
        "X.plot.box(subplots=True, legend=False, layout=(3, 10))\n",
        "plt.show()\n",
        "# blev det bättre? känn dig fri att ändra på antal (rader, kolumner) i layout för att hitta vad som känns rimligt för dig"
      ],
      "metadata": {
        "id": "hBqPip9-VQdX"
      },
      "execution_count": null,
      "outputs": []
    },
    {
      "cell_type": "code",
      "source": [
        "# vi kan även leka lite med plottyp\n",
        "# alla möjliga typer finns här https://pandas.pydata.org/docs/reference/api/pandas.DataFrame.plot.html#pandas.DataFrame.plot\n",
        "# men alla kommer inte se lika snygga ut!\n",
        "X.plot.density(subplots=True, layout=(3, 10), legend=False)\n",
        "plt.show()"
      ],
      "metadata": {
        "id": "O8WGj6UOiZE1"
      },
      "execution_count": null,
      "outputs": []
    },
    {
      "cell_type": "code",
      "source": [
        " # beroende på plottyp vill vi använda lite olika argument för att det ska bli bra\n",
        "X.plot.density(subplots=True, layout=(3, 10), legend=False, sharex=False,\n",
        "               title=X.columns.tolist())\n",
        "plt.tight_layout()\n",
        "plt.show()"
      ],
      "metadata": {
        "id": "9oKCYZ1xrei2"
      },
      "execution_count": null,
      "outputs": []
    },
    {
      "cell_type": "code",
      "source": [
        "# vi kan även kolla på variabler två och två med hjälp av korrelationsmatris\n",
        "X.corr()"
      ],
      "metadata": {
        "id": "t9wIZmuRyje3"
      },
      "execution_count": null,
      "outputs": []
    },
    {
      "cell_type": "code",
      "source": [
        "# oj nej det blev massa siffror igen, svårt att kolla igenom dem om de är i numerisk format.\n",
        "# vi gör ett plot av det istället\n",
        "plt.matshow(X.corr())\n",
        "plt.show()"
      ],
      "metadata": {
        "id": "Uvyy2MEowKzf"
      },
      "execution_count": null,
      "outputs": []
    },
    {
      "cell_type": "code",
      "source": [
        "# det var bättre men det är svårt att veta vilken siffra motsvarar vilken färg\n",
        "# så vi lägger in en colorbar\n",
        "p1 = plt.matshow(X.corr())\n",
        "plt.colorbar(p1)\n",
        "plt.show()"
      ],
      "metadata": {
        "id": "QD2_LLqQy3s_"
      },
      "execution_count": null,
      "outputs": []
    },
    {
      "cell_type": "markdown",
      "source": [
        "### Reflektion\n",
        "\n",
        "Innan vi kan gå vidare till maskinlärning, det är viktigt att vi förstår om det är någonting i datasettet som känns konstigt eller som behöver hanteras. Är variabler kategoriska eller numeriska? Om du inte kommer ihåg var det innebär med kategoriska och numeriska variabler, känn dig fri att fråga chattboten (och sen verifiera från någon annan källa). Har alla samma skala? Är det mycket outliers? Finns det några värden som korrelerar mycket starkt med varandra (r > 0.9 eller så)?"
      ],
      "metadata": {
        "id": "CrqFyfxWsWVp"
      }
    },
    {
      "cell_type": "markdown",
      "source": [
        "---\n",
        "## Steg 3: Dela upp test och train\n",
        "I maskininlärning är det otroligt viktigt att testdata inte får läcka sig in i träningsstadiet. För att undvika detta, vill vi dela upp datasettet i test och train innan vi börjar göra något vidare med det."
      ],
      "metadata": {
        "id": "s02xabZVO7xS"
      }
    },
    {
      "cell_type": "code",
      "source": [
        "# Dela upp dataset till träning- och testdata\n",
        "# X_train och y_train är data som ska användas vid träning av modellen\n",
        "# X_test och y_test är data som ska användas vid utvärdering av modellen\n",
        "# att vi explicit sätter random state gör så att vi alla kommer få samma individer i test och train\n",
        "# vilket gör det enklare att troubleshootta och debugga om det behövs!\n",
        "\n",
        "X_train, X_test, y_train, y_test = train_test_split(X, y, train_size=0.8, random_state=1234)"
      ],
      "metadata": {
        "id": "AKxuLDx6t5gF"
      },
      "execution_count": null,
      "outputs": []
    },
    {
      "cell_type": "markdown",
      "source": [
        "### Reflektion\n",
        "Varför är det dåligt om testdata läcker in i träningsdata? Om detta inte känns självklart, fråga gärna chattboten (och verifiera svar från någon annan källa)!"
      ],
      "metadata": {
        "id": "lHwHkaclu_je"
      }
    },
    {
      "cell_type": "markdown",
      "source": [
        "----\n",
        "## Steg 4: Standardisering av X-data\n",
        "\n",
        "En problem vi kan ha upptäckt är att variabler har väldigt olika storleksgrad. Det klarar inte alla maskininlärningsalgoritmer av. Därför vill vi standardisera våra numeriska variabler innan vi tränar modellen.\n",
        "\n",
        "Standardisering gör det dessutom lättare att tolka samband och jämföra variabler mot varandra. Standardiserad data har följande egenskaper:\n",
        "- medelvärde=0\n",
        "- standardavvikelse=1\n",
        "\n",
        "I detta fall använder ett funktion som heter `StandardScaler()` för att standardisera vår numeriska X-data (vi standardiserar inte y-datan eftersom den är kategorisk). Det finns även andra typer av Scaler funktioner, t.ex. `MinMaxScaler()` för olika användningsfall.\n"
      ],
      "metadata": {
        "id": "di6rvSFgsGfK"
      }
    },
    {
      "cell_type": "code",
      "source": [
        "from sklearn.preprocessing import StandardScaler\n",
        "\n",
        "# Definiera vår scaler\n",
        "scaler = StandardScaler()\n",
        "\n",
        "# Vi tränar scalern enbart på träningsdata\n",
        "X_train_scaled = scaler.fit_transform(X_train)\n",
        "\n",
        "# Vi tillämpar scalern även på testdata\n",
        "X_test_scaled = scaler.transform(X_test)\n"
      ],
      "metadata": {
        "id": "sZdykT5VLomJ"
      },
      "execution_count": null,
      "outputs": []
    },
    {
      "cell_type": "code",
      "source": [
        "# vi kan kolla visuellt vad har hänt med våra distributioner efter scalern\n",
        "# kolla noga på x-axis!\n",
        "pd.DataFrame(X_train_scaled).plot.density(subplots=True, layout=(3, 10), legend=False, sharex=False,\n",
        "               title=X.columns.tolist())\n",
        "plt.tight_layout()\n",
        "plt.show()"
      ],
      "metadata": {
        "id": "agcVK4spzb6m"
      },
      "execution_count": null,
      "outputs": []
    },
    {
      "cell_type": "markdown",
      "source": [
        "---\n",
        "# Steg 5: Träning och prediktion\n",
        "\n",
        "Vi ska använda den skalade träningsdatan för att träna en modell, och sedan den skalade testdatan för att ta fram prediktioner.\n",
        "\n",
        "Slutligen så ska vi räkna ut en confusion matrix där vi kan se hur många av de predicerade värdena för respektive utfall som faktiskt var korrekta enligt \"facit\".\n"
      ],
      "metadata": {
        "id": "11M2cA9VaVlv"
      }
    },
    {
      "cell_type": "code",
      "source": [
        "# vi börjar med att importera lite fler funktioner som vi behöver\n",
        "from sklearn.dummy import DummyClassifier\n",
        "from sklearn.linear_model import LogisticRegression\n",
        "from sklearn.ensemble import RandomForestClassifier\n",
        "from sklearn.naive_bayes import GaussianNB\n",
        "from sklearn.neighbors import KNeighborsClassifier\n",
        "from sklearn.svm import SVC\n",
        "from sklearn.metrics import confusion_matrix, accuracy_score"
      ],
      "metadata": {
        "id": "RuT9wX56wgpX"
      },
      "execution_count": null,
      "outputs": []
    },
    {
      "cell_type": "code",
      "source": [
        "# Välj ett modell\n",
        "model = KNeighborsClassifier()\n",
        "\n",
        "# Träna modell (det här är den biten som alla hajpar!)\n",
        "model.fit(X_train_scaled, y_train)\n",
        "\n",
        "# Nu tar vi ett dataset som modellen inte har set förut (test settet)\n",
        "# och ber den prediktera klass på de exempel som finns med på det\n",
        "y_pred = model.predict(X_test_scaled)"
      ],
      "metadata": {
        "id": "DqpORzidOyXo"
      },
      "execution_count": null,
      "outputs": []
    },
    {
      "cell_type": "code",
      "source": [
        "# Vi gör ett första koll på hur bra det blev genom att titta på confusion matrix\n",
        "cm = confusion_matrix(y_test, y_pred)\n",
        "cm = pd.DataFrame(cm, columns=[\"predicted_benign\", \"predicted_maglignant\"], index=[\"actually_benign\", \"actually_malignant\"])\n",
        "display(cm)"
      ],
      "metadata": {
        "id": "cZi84xRIYhNz"
      },
      "execution_count": null,
      "outputs": []
    },
    {
      "cell_type": "markdown",
      "source": [
        "### Uppgift\n",
        "Försök byta ut andra modeller till raden som börjar med `model = `. Blir det bättre eller sämre resultat? Vilken modell ger bäst resultat?\n"
      ],
      "metadata": {
        "id": "MORq5098Y95i"
      }
    },
    {
      "cell_type": "markdown",
      "source": [
        "### Reflektion\n",
        "Det finns två olika typer av fel man kan få i confusion matrixen ovan: false positives (klassificeras som positiv, facit negativ) och false negatives (klassificeras som negativ, facit positiv). Matematiskt räknas båda två oftast att vara \"lika dåliga\", men är det så?\n",
        "\n",
        "Kom ihåg att detta är en klinisk uppgift i grunden: prediktera vilka patienter är friska och vilka är sjuka. Om man tänker på den kliniska tillämpningen, är det skillnad mellan att ha false positives (man är frisk men klassificeras som sjuk) och false negatives (man är sjuk men klassificeras som frisk)? Tycker ni att någon av de två är allvarligare än den andra?"
      ],
      "metadata": {
        "id": "0fFZHTChef5x"
      }
    },
    {
      "cell_type": "markdown",
      "source": [
        "---\n",
        "## Steg 5: Utvärdera modellen\n",
        "\n",
        "Vi kan utvärdera modellen utifrån ett antal olika mått. Vi har redan kollat på confusion matrix, men det kan vara svårt att veta om något blev bättre eller sämre. Därför finns det olika prestandamått som med en siffra ger oss en hum om hur \"bra\" modellen blev.\n",
        "\n",
        "Vi kommer testa den mest vanliga, som heter accuracy. Det är bra att veta att även om accuracy används mycket, det vara missvisande när datan i y är väldigt obalanserad (t.ex. om nästan alla fall har samma utfall). Om datan är mycket obalanserat, använder man oftast någon annan prestandamått eller fler prestandamått tillsammans.\n"
      ],
      "metadata": {
        "id": "zxGYO8C2efkP"
      }
    },
    {
      "cell_type": "code",
      "source": [
        "# vi använder befintlig funktion för att räkna fram accuracyn\n",
        "accuracy_score(y_test, y_pred)"
      ],
      "metadata": {
        "id": "gzBkkXzPgd-T"
      },
      "execution_count": null,
      "outputs": []
    },
    {
      "cell_type": "code",
      "source": [
        "# accuracy är en ganska enkel mått att även räkna fram själv\n",
        "# vi räknar antal prediktioner som blev helt rätt\n",
        "number_of_correct_predictions = sum(y_test == y_pred)\n",
        "# antal prediktioner som vi gjorde totalt\n",
        "number_of_predictions = len(y_pred)\n",
        "# och räknar andel rätt av allt\n",
        "accuracy = number_of_correct_predictions / number_of_predictions\n",
        "# om vi bara skriver namn på variabel så kommer den skrivas ut efter cellen!\n",
        "accuracy"
      ],
      "metadata": {
        "id": "SKYo_KVWd8NK"
      },
      "execution_count": null,
      "outputs": []
    },
    {
      "cell_type": "markdown",
      "source": [
        "---\n",
        "# Steg 7: Fri lek\n",
        "\n",
        "Har vi tid kvar och ni har hunnit hela vägen hit får ni gärna gå till den biten av kod som kändes roligast och se om ni kan ändra på någonting själva. Några idéer:\n",
        "\n",
        "1. Kan ni skapa mer informativa plottar om data eller snygga till de som vi har gjort tillsammans? [Kolla tips t.ex. här](https://matplotlib.org/stable/gallery/index.html)\n",
        "2. Kan ni hitta fler maskininlärningsmodeller som ni kan testa träna modellen på? [Kolla modeller som finns inom Scikit-learn här](https://scikit-learn.org/stable/auto_examples/classification/plot_classifier_comparison.html)\n",
        "3. Kan ni ta fram någon annan prestandamått för resultatet? [Här finns alla metriker för Scikit-learn](https://scikit-learn.org/stable/modules/model_evaluation.html#)\n",
        "4. Kan ni hitta sätt att avrunda resultatet av accuracy beräkning till 2 decimaler? Googla!\n",
        "\n",
        "Kom ihåg att du kan behöva importera nya funktioner för att lösa uppgifterna!"
      ],
      "metadata": {
        "id": "aVgwK3iSWi8v"
      }
    },
    {
      "cell_type": "markdown",
      "source": [
        "### Reflektion\n",
        "\n",
        "Hur kändes det?  \n",
        "\n",
        "Har du tips om hur man kan förbättra uppgifterna/notebooken för framtida omgångar får du gärna höra av dig till juulia.suvilehto@vgregion.se ."
      ],
      "metadata": {
        "id": "r3cOqbFgi73U"
      }
    },
    {
      "cell_type": "code",
      "source": [],
      "metadata": {
        "id": "bL4rq4Jljd3n"
      },
      "execution_count": null,
      "outputs": []
    }
  ]
}